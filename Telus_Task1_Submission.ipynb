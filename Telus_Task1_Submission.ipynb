{
  "nbformat": 4,
  "nbformat_minor": 0,
  "metadata": {
    "colab": {
      "name": "Telus_Task1_Submission.ipynb",
      "provenance": [],
      "collapsed_sections": []
    },
    "kernelspec": {
      "name": "python3",
      "display_name": "Python 3"
    },
    "language_info": {
      "name": "python"
    }
  },
  "cells": [
    {
      "cell_type": "code",
      "execution_count": 1,
      "metadata": {
        "colab": {
          "base_uri": "https://localhost:8080/"
        },
        "id": "5qM9DCzAzN4D",
        "outputId": "b104f1b4-1122-4816-883f-82248d643f46"
      },
      "outputs": [
        {
          "output_type": "stream",
          "name": "stdout",
          "text": [
            "Requirement already satisfied: wikipedia-api in /usr/local/lib/python3.7/dist-packages (0.5.4)\n",
            "Requirement already satisfied: requests in /usr/local/lib/python3.7/dist-packages (from wikipedia-api) (2.23.0)\n",
            "Requirement already satisfied: idna<3,>=2.5 in /usr/local/lib/python3.7/dist-packages (from requests->wikipedia-api) (2.10)\n",
            "Requirement already satisfied: chardet<4,>=3.0.2 in /usr/local/lib/python3.7/dist-packages (from requests->wikipedia-api) (3.0.4)\n",
            "Requirement already satisfied: urllib3!=1.25.0,!=1.25.1,<1.26,>=1.21.1 in /usr/local/lib/python3.7/dist-packages (from requests->wikipedia-api) (1.24.3)\n",
            "Requirement already satisfied: certifi>=2017.4.17 in /usr/local/lib/python3.7/dist-packages (from requests->wikipedia-api) (2021.10.8)\n"
          ]
        }
      ],
      "source": [
        "!pip3 install wikipedia-api"
      ]
    },
    {
      "cell_type": "code",
      "source": [
        "import wikipediaapi\n",
        "from bs4 import BeautifulSoup\n",
        "import re\n",
        "import csv\n",
        "import requests\n",
        "import pandas as pd\n",
        "from urllib.request import urlopen\n",
        "\n",
        "wiki = wikipediaapi.Wikipedia('en')"
      ],
      "metadata": {
        "id": "O00jBdsNzOoP"
      },
      "execution_count": 2,
      "outputs": []
    },
    {
      "cell_type": "code",
      "source": [
        "def wikipedia_call(company_name,limit):\n",
        "  summary = wiki.page(company_name).summary[0:limit]\n",
        "  return summary"
      ],
      "metadata": {
        "id": "CbvsfDOfzXu9"
      },
      "execution_count": 3,
      "outputs": []
    },
    {
      "cell_type": "code",
      "source": [
        "def custom_wikipedia_call(href,limit):\n",
        "  static_url = 'https://en.wikipedia.org/'\n",
        "  total_url = ''\n",
        "  total_url = static_url + href\n",
        "  page = urlopen(total_url).read()\n",
        "  soup = BeautifulSoup(page)\n",
        "  total_text = ''\n",
        "  for item in soup.findAll('p'):\n",
        "    total_text += item.text\n",
        "  \n",
        "  return total_text[0:limit]\n",
        "\n"
      ],
      "metadata": {
        "id": "aLD_he5QnnH-"
      },
      "execution_count": 4,
      "outputs": []
    },
    {
      "cell_type": "code",
      "source": [
        "def page_parse(table,idx,limit):\n",
        "  body = table.find_all(\"tr\")\n",
        "  head = body[0]\n",
        "  body_rows = body[1:] \n",
        "  dic={}\n",
        "  c=0\n",
        "  for row_num in range(len(body_rows)):\n",
        "    c=c+1 \n",
        "    row = [] \n",
        "    c3 = 0\n",
        "    var = ''\n",
        "    var_comp = ''\n",
        "    temp_dic = {}\n",
        "    for row_item in body_rows[row_num].find_all(\"a\"):\n",
        "      c3 = c3+1\n",
        "      aa = re.sub(\"(\\xa0)|(\\n)|,\",\"\",row_item.text)\n",
        "      if (len(aa.splitlines())>=1):\n",
        "        var_comp = aa.splitlines()[0]\n",
        "\n",
        "      var=row_item['href']\n",
        "      temp_dic[var_comp] = var\n",
        "\n",
        "\n",
        "\n",
        "    keys_list = list(temp_dic)\n",
        "    company_name = keys_list[idx]\n",
        "    #print(company_name,temp_dic[a_key]) \n",
        "\n",
        "    summary = wikipedia_call(company_name,limit)\n",
        "\n",
        "    if (summary == \"\"):\n",
        "      summary = custom_wikipedia_call(temp_dic[company_name],limit)\n",
        "\n",
        "    #summary_rep = summary.replace(',',) \n",
        "    #dic[company_name] = '\"'+summary+'\"'\n",
        "    dic[company_name] = summary\n",
        "\n",
        "\n",
        "  return dic\n",
        "\n",
        "\n",
        "\n"
      ],
      "metadata": {
        "id": "dZXUhqGP5kXS"
      },
      "execution_count": 5,
      "outputs": []
    },
    {
      "cell_type": "code",
      "source": [
        "def driver():\n",
        "  url='https://en.wikipedia.org/wiki/List_of_companies_of_Canada'\n",
        "  limit = 300\n",
        "  req=requests.get(url)\n",
        "  content=req.text  \n",
        "  soup=BeautifulSoup(content)\n",
        "  contentTable  = soup.find_all('table', { \"class\" : \"wikitable sortable\"})\n",
        "  idx_list = [1,0]\n",
        "  global_dic = {'Company Name':'Summary'}\n",
        "  for i in range (len(contentTable)):\n",
        "    returned_dic = page_parse(contentTable[i],idx_list[i],limit)\n",
        "    global_dic.update(returned_dic)\n",
        "  new_path = open(\"Canadian_Company_Details.csv\", \"w\")\n",
        "  z = csv.writer(new_path)\n",
        "  for new_k, new_v in global_dic.items():\n",
        "    z.writerow([new_k, new_v])\n",
        "\n",
        "  new_path.close()\n",
        "\n",
        "\n",
        "  \n",
        "driver()"
      ],
      "metadata": {
        "id": "7O4ndDfj_nYB"
      },
      "execution_count": 6,
      "outputs": []
    },
    {
      "cell_type": "code",
      "source": [
        ""
      ],
      "metadata": {
        "id": "gc8RyJijEL9w"
      },
      "execution_count": null,
      "outputs": []
    }
  ]
}